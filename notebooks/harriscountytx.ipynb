{
 "cells": [
  {
   "cell_type": "code",
   "execution_count": null,
   "metadata": {},
   "outputs": [],
   "source": [
    "import os\n",
    "import sys\n",
    "import requests\n",
    "import pandas as pd\n",
    "\n",
    "sys.path.append(\"..\")\n",
    "from models.cases import Case\n",
    "\n",
    "from models.scraper import ScraperBase"
   ]
  },
  {
   "cell_type": "code",
   "execution_count": null,
   "metadata": {},
   "outputs": [],
   "source": [
    "\n",
    "start_date = \"03/06/2024\"\n",
    "end_date = \"03/06/2024\"\n",
    "\n",
    "url = \"https://jpwebsite.harriscountytx.gov/PublicExtracts/GetExtractData\"\n",
    "\n",
    "params = {\n",
    "    \"extractCaseType\": \"CR\",\n",
    "    \"extract\": \"1\",\n",
    "    \"court\": \"305\",\n",
    "    \"casetype\": \"CRCIT,CRCOM\",\n",
    "    \"format\": \"csv\",\n",
    "    \"fdate\": start_date,\n",
    "    \"tdate\": end_date,\n",
    "}\n",
    "\n",
    "response = requests.get(\n",
    "    url=url,\n",
    "    params=params,\n",
    ")\n",
    "print(response.status_code)"
   ]
  },
  {
   "cell_type": "code",
   "execution_count": null,
   "metadata": {},
   "outputs": [],
   "source": [
    "data = response.text\n",
    "print(data)"
   ]
  },
  {
   "cell_type": "code",
   "execution_count": null,
   "metadata": {},
   "outputs": [],
   "source": [
    "# Define the path to your CSV file\n",
    "csv_file_temp_path = 'Temp/harriscountytx.csv'\n",
    "\n",
    "# Split the path in directory and file name\n",
    "directory = os.path.dirname(csv_file_temp_path)\n",
    "\n",
    "# Check if the directory exists, create it if it doesn't\n",
    "if not os.path.exists(directory):\n",
    "    os.makedirs(directory)\n",
    "\n",
    "with open(csv_file_temp_path, \"w\", encoding=\"utf-8\") as f:\n",
    "    f.write(data)"
   ]
  },
  {
   "cell_type": "code",
   "execution_count": null,
   "metadata": {},
   "outputs": [],
   "source": [
    "# Get pydantic fields for Case\n",
    "case_fields = Case.__fields__.keys()\n",
    "print(case_fields)"
   ]
  },
  {
   "cell_type": "code",
   "execution_count": null,
   "metadata": {},
   "outputs": [],
   "source": [
    "df = pd.read_csv(\n",
    "    csv_file_temp_path,\n",
    "    skip_blank_lines=True\n",
    ")"
   ]
  },
  {
   "cell_type": "code",
   "execution_count": null,
   "metadata": {},
   "outputs": [],
   "source": [
    "df.columns"
   ]
  },
  {
   "cell_type": "code",
   "execution_count": null,
   "metadata": {},
   "outputs": [],
   "source": [
    "df[['Def Height Feet', 'Def Height Inches']]"
   ]
  },
  {
   "cell_type": "code",
   "execution_count": null,
   "metadata": {},
   "outputs": [],
   "source": [
    "# Rename columns dict\n",
    "field_mapping = {\n",
    "    \"Case Number\": \"case_id\",\n",
    "    \"JP Court ID \": \"court_id\",\n",
    "    \"Citation Number \": \"ticket\",\n",
    "    \"Filed Date\": \"filing_date\",\n",
    "    \"Offense Code\": \"charges\",\n",
    "    \"Offense Description \": \"description\",\n",
    "    \"Statutory Cite 1 \": \"case_desc\",\n",
    "    \"Statutory Cite 2 \": \"related_cases\",  # Assuming related laws might imply related cases\n",
    "    \"Arresting Agency Code \": \"court_code\",  # Closest match; may not be perfect\n",
    "    \"Arresting Agency Name \": \"court_desc\",\n",
    "    \"Officer Code\": \"source\",  # Assuming the officer's code is a source identifier\n",
    "    \"Officer Name\": \"prosecuting_atty\",  # Close approximation; officer acting as complainant\n",
    "    \"Plea Code\": \"plea_andpayind\",\n",
    "    \"Plea Date \": \"plea_date\",\n",
    "    \"Disposition Code \": \"status\",\n",
    "    \"Disposition Date \": \"case_status\",\n",
    "    \"Judgment Date\": \"case_date\",\n",
    "    \"Def First Name \": \"first_name\",\n",
    "    \"Def Middle Name\": \"middle_name\",\n",
    "    \"Def Last Name\": \"last_name\",\n",
    "    \"Def Suffix \": \"suffix\",  # No direct match; added as 'suffix'\n",
    "    \"Def Home Add Line 1\": \"address_line_1\",\n",
    "    \"Def Home Add Line 2\": \"address_seq_no\",  # Approximation; sequence no. may refer to multi-line addresses\n",
    "    \"Def Home Add City\": \"address_city\",\n",
    "    \"Def Home Add State \": \"address_state_code\",\n",
    "    \"Def Home Add ZIP 1 \": \"address_zip\",\n",
    "    # 'Def Home Add ZIP 2 ': Not directly mapped; possibly combine with 'Def Home Add ZIP 1 ' if needed\n",
    "    \"Def Work Add Line 1\": \"formatted_party_address\",  # Assuming work address is a formatted party address\n",
    "    # Remaining work address fields are not directly mapped due to lack of direct correspondence\n",
    "    \"Def Date of Birth\": \"birth_date\",\n",
    "    \"Def SPN Number\": \"pidm\",  # Assuming SPN number can serve as a unique identifier akin to PIDM\n",
    "    \"Def SPN Pointer\": \"custom\",  # No direct match; 'custom' for miscellaneous data\n",
    "    \"Def Height Feet\": \"height\",  # No direct match; added as 'height'\n",
    "    \"Def Height Inches\": \"height\",  # Combine with 'Def Height Feet' for full height in one field\n",
    "    \"Def Weight\": \"weight\",  # No direct match; added as 'weight'\n",
    "    \"Def Gender \": \"gender\",\n",
    "    \"Def Race\": \"race\",  # No direct match; added as 'race'\n",
    "    \"Total Fines Assessed \": \"fine\",\n",
    "    \"Total Fines Due\": \"balance_due\",  # Assuming closest match for dues\n",
    "    # The fields related to costs, payments, bond details, and hearing details are not directly mapped due to lack of direct correspondence or because they are overly specific without a clear counterpart.\n",
    "    \"Next Hearing Date\": \"court_date\",\n",
    "    \"Next Hearing Time\": \"court_time\",\n",
    "    # 'Next Hearing Desc', 'Last Open Warr Type', 'Last Open Warr Date': Not directly mapped due to lack of clear counterparts\n",
    "}"
   ]
  },
  {
   "cell_type": "code",
   "execution_count": null,
   "metadata": {},
   "outputs": [],
   "source": [
    "df = df.rename(columns=field_mapping)\n",
    "\n",
    "df.columns"
   ]
  },
  {
   "cell_type": "code",
   "execution_count": null,
   "metadata": {},
   "outputs": [],
   "source": [
    "df[\"court_date\"]"
   ]
  },
  {
   "cell_type": "code",
   "execution_count": null,
   "metadata": {},
   "outputs": [],
   "source": [
    "# 07/26/2024\"08:30\"\n",
    "df[\"court_date_parsed\"] = pd.to_datetime(df[\"court_date\"], format='%m/%d/%Y\"%H:%M\"')"
   ]
  },
  {
   "cell_type": "code",
   "execution_count": null,
   "metadata": {},
   "outputs": [],
   "source": [
    "df[\"court_date\"] = df[\"court_date_parsed\"].dt.date\n",
    "df[\"court_time\"] = df[\"court_date_parsed\"].dt.time"
   ]
  },
  {
   "cell_type": "code",
   "execution_count": null,
   "metadata": {},
   "outputs": [],
   "source": [
    "df.head(5)"
   ]
  },
  {
   "cell_type": "code",
   "execution_count": null,
   "metadata": {},
   "outputs": [],
   "source": [
    "df.describe()"
   ]
  },
  {
   "cell_type": "code",
   "execution_count": null,
   "metadata": {},
   "outputs": [],
   "source": []
  },
  {
   "cell_type": "code",
   "execution_count": null,
   "metadata": {},
   "outputs": [],
   "source": [
    "res = requests.get(url=\"https://jpwebsite.harriscountytx.gov/PublicExtracts/search.jsp\")\n",
    "if res.status_code != 200:\n",
    "    raise Exception(\"Failed to get search page\")\n",
    "from bs4 import BeautifulSoup\n",
    "parser = BeautifulSoup(res.text, 'html.parser')\n",
    "courts = parser.find(\"select\", id=\"court\").find_all(\"option\")\n",
    "courts = [\n",
    "    {\n",
    "        \"court_id\": court[\"value\"],\n",
    "        \"name\": court.text.strip()\n",
    "    }\n",
    "    for court in courts\n",
    "]\n",
    "courts"
   ]
  },
  {
   "cell_type": "code",
   "execution_count": 38,
   "metadata": {},
   "outputs": [],
   "source": [
    "import sys\n",
    "sys.path.append(\"..\")\n",
    "\n",
    "import requests\n",
    "import pandas as pd\n",
    "from models.cases import Case\n",
    "from models.scraper import ScraperBase\n",
    "from bs4 import BeautifulSoup\n",
    "from datetime import date, datetime, time\n",
    "from tempfile import NamedTemporaryFile\n",
    "from rich.console import Console\n",
    "from models.leads import Lead\n",
    "from models.scraper import ScraperBase\n",
    "from rich.progress import Progress\n",
    "\n",
    "\n",
    "console = Console()\n",
    "\n",
    "\n",
    "class TXHarrisCountyScraper(ScraperBase):\n",
    "    field_mapping = {\n",
    "        \"Case Number\": \"case_id\",\n",
    "        \"JP Court ID \": \"court_id\",\n",
    "        \"Citation Number \": \"ticket\",\n",
    "        \"Filed Date\": \"filing_date\",\n",
    "        \"Offense Code\": \"charges\",\n",
    "        \"Offense Description \": \"description\",\n",
    "        \"Statutory Cite 1 \": \"case_desc\",\n",
    "        \"Statutory Cite 2 \": \"related_cases\",  # Assuming related laws might imply related cases\n",
    "        \"Arresting Agency Code \": \"court_code\",  # Closest match; may not be perfect\n",
    "        \"Arresting Agency Name \": \"court_desc\",\n",
    "        \"Officer Code\": \"source\",  # Assuming the officer's code is a source identifier\n",
    "        \"Officer Name\": \"prosecuting_atty\",  # Close approximation; officer acting as complainant\n",
    "        \"Plea Code\": \"plea_andpayind\",\n",
    "        \"Plea Date \": \"plea_date\",\n",
    "        \"Disposition Code \": \"status\",\n",
    "        \"Disposition Date \": \"case_status\",\n",
    "        \"Judgment Date\": \"case_date\",\n",
    "        \"Def First Name \": \"first_name\",\n",
    "        \"Def Middle Name\": \"middle_name\",\n",
    "        \"Def Last Name\": \"last_name\",\n",
    "        \"Def Suffix \": \"suffix\",  # No direct match; added as 'suffix'\n",
    "        \"Def Home Add Line 1\": \"address_line_1\",\n",
    "        # \"Def Home Add Line 2\": \"address_seq_no\",  # Approximation; sequence no. may refer to multi-line addresses REMOVED; \n",
    "        \"Def Home Add Line 2\": \"address_line_2\",\n",
    "        \"Def Home Add City\": \"address_city\",\n",
    "        \"Def Home Add State \": \"address_state_code\",\n",
    "        \"Def Home Add ZIP 1 \": \"address_zip\",\n",
    "        # 'Def Home Add ZIP 2 ': Not directly mapped; possibly combine with 'Def Home Add ZIP 1 ' if needed\n",
    "        \"Def Work Add Line 1\": \"formatted_party_address\",  # Assuming work address is a formatted party address\n",
    "        # Remaining work address fields are not directly mapped due to lack of direct correspondence\n",
    "        \"Def Date of Birth\": \"birth_date\",\n",
    "        \"Def SPN Number\": \"pidm\",  # Assuming SPN number can serve as a unique identifier akin to PIDM\n",
    "        \"Def SPN Pointer\": \"custom\",  # No direct match; 'custom' for miscellaneous data\n",
    "        \"Def Height Feet\": \"height_feet\",  # No direct match; added as 'height'\n",
    "        \"Def Height Inches\": \"height_inches\",  # Combine with 'Def Height Feet' for full height in one field\n",
    "        \"Def Weight\": \"weight\",  # No direct match; added as 'weight'\n",
    "        \"Def Gender \": \"gender\",\n",
    "        \"Def Race\": \"race\",  # No direct match; added as 'race'\n",
    "        \"Total Fines Assessed \": \"fine\",\n",
    "        \"Total Fines Due\": \"balance_due\",  # Assuming closest match for dues\n",
    "        # The fields related to costs, payments, bond details, and hearing details are not directly mapped due to lack of direct correspondence or because they are overly specific without a clear counterpart.\n",
    "        \"Next Hearing Date\": \"court_date\",\n",
    "        \"Next Hearing Time\": \"court_time\",\n",
    "        # 'Next Hearing Desc', 'Last Open Warr Type', 'Last Open Warr Date': Not directly mapped due to lack of clear counterparts\n",
    "    }\n",
    "    def get_courts(self):\n",
    "        self.search_url = \"https://jpwebsite.harriscountytx.gov/PublicExtracts/search.jsp\"\n",
    "        res = requests.get(url=self.search_url)\n",
    "        if res.status_code != 200:\n",
    "            raise Exception(\"Failed to get search page\")\n",
    "        parser = BeautifulSoup(res.text, 'html.parser')\n",
    "        courts = parser.find(\"select\", id=\"court\").find_all(\"option\")\n",
    "        return [\n",
    "            {\n",
    "                \"court_id\": str(court[\"value\"]),\n",
    "                \"name\": court.text.strip()\n",
    "            }\n",
    "            for court in courts\n",
    "        ]\n",
    "\n",
    "    def scraper_single_court(self, court_id, start_date, end_date):\n",
    "        params = {\n",
    "            \"extractCaseType\": \"CR\",\n",
    "            \"extract\": \"1\",\n",
    "            \"court\": court_id,\n",
    "            \"casetype\": \"CRCIT,CRCOM\",\n",
    "            \"format\": \"csv\",\n",
    "            \"fdate\": start_date,\n",
    "            \"tdate\": end_date,\n",
    "        }\n",
    "\n",
    "        response = requests.get(\n",
    "            url=self.url,\n",
    "            params=params,\n",
    "        )\n",
    "\n",
    "        with NamedTemporaryFile(delete=False, mode=\"w\", encoding=\"utf-8\") as f:\n",
    "            f.write(response.text)\n",
    "            filepath = f.name\n",
    "            cases_dicts = self.extract_cases(filepath)        \n",
    "            console.log(f\"Extracted {len(cases_dicts)} cases\")\n",
    "\n",
    "            # with progress\n",
    "            with Progress() as progress:\n",
    "                task = progress.add_task(\"[red]Inserting cases...\", total=len(cases_dicts))\n",
    "                for case_dict in cases_dicts:\n",
    "                    case_id = case_dict.get(\"case_id\")\n",
    "                    if self.check_if_exists(case_id):\n",
    "                        console.log(f\"Case {case_id} already exists. Skipping...\")\n",
    "                        continue\n",
    "                    case = Case(**case_dict)\n",
    "                    lead = Lead(**case_dict)\n",
    "                    self.insert_case(case)\n",
    "                    self.insert_lead(lead)\n",
    "\n",
    "                    progress.update(task, advance=1)\n",
    "\n",
    "    def extract_cases(self, filepath):\n",
    "        try:\n",
    "            df = pd.read_csv(\n",
    "                filepath,\n",
    "                skip_blank_lines=True\n",
    "            )\n",
    "            if df.empty:\n",
    "                return []\n",
    "        except pd.errors.EmptyDataError:\n",
    "            return []\n",
    "        except pd.errors.ParserError:\n",
    "            return []\n",
    "        \n",
    "        df = df[list(self.field_mapping.keys())].rename(columns=self.field_mapping)\n",
    "\n",
    "        df[\"court_date_parsed\"] = pd.to_datetime(df[\"court_date\"], format='%m/%d/%Y\"%H:%M\"')\n",
    "\n",
    "        df[\"court_date\"] = df[\"court_date_parsed\"].dt.date\n",
    "        df[\"court_time\"] = df[\"court_date_parsed\"].dt.time\n",
    "\n",
    "        df[\"height\"] = df[\"height_feet\"].astype(str) + \"'\" + df[\"height_inches\"].astype(str)\n",
    "\n",
    "        cases_dicts = df.to_dict(orient=\"records\")\n",
    "        cases_dicts = [{k: (None if pd.isna(v) else v) for k, v in record.items()} for record in cases_dicts]            \n",
    "        for cases_dict in cases_dicts:\n",
    "            cases_dict[\"related_cases\"] = [cases_dict[\"related_cases\"]] if isinstance(cases_dict[\"related_cases\"], str) else cases_dict[\"related_cases\"]\n",
    "            \n",
    "            cases_dict[\"prosecuting_atty\"] = None # I set this to None for now, not sure if this is True/False for default values\n",
    "            cases_dict[\"fine\"] = {\n",
    "                \"default_courtcost\": 0,\n",
    "                \"total_amount\": cases_dict[\"fine\"],\n",
    "                \"total_vbfineamount\": cases_dict[\"fine\"],\n",
    "            }\n",
    "            cases_dict[\"ticket\"] = {} # Push this as empty dict\n",
    "            cases_dict[\"court_date\"] = datetime.combine(cases_dict[\"court_date\"], time()) if cases_dict[\"court_date\"] else None\n",
    "            cases_dict[\"court_time\"] = str(cases_dict[\"court_time\"])\n",
    "            cases_dict[\"charges\"] = [\n",
    "                {\n",
    "                    \"description\": cases_dict[\"charges\"],\n",
    "                }\n",
    "            ]\n",
    "\n",
    "        return cases_dicts\n",
    "\n",
    "    def scrape(self, search_parameters):\n",
    "        start_date = search_parameters.get(\"start_date\")\n",
    "        end_date = search_parameters.get(\"end_date\")\n",
    "\n",
    "        if not start_date:\n",
    "            start_date = date.today().strftime(\"%m/%d/%Y\")\n",
    "        if not end_date:\n",
    "            end_date = date.today().strftime(\"%m/%d/%Y\")\n",
    "\n",
    "        self.url = \"https://jpwebsite.harriscountytx.gov/PublicExtracts/GetExtractData\"\n",
    "\n",
    "        # Get the list of courts\n",
    "        courts_list = self.get_courts()\n",
    "\n",
    "        # Loop for each court in the list of courts\n",
    "        for court in courts_list:\n",
    "            court_id = court.get(\"court_id\")\n",
    "            self.scraper_single_court(court_id, start_date, end_date)"
   ]
  },
  {
   "cell_type": "code",
   "execution_count": 39,
   "metadata": {},
   "outputs": [
    {
     "data": {
      "text/html": [
       "<pre style=\"white-space:pre;overflow-x:auto;line-height:normal;font-family:Menlo,'DejaVu Sans Mono',consolas,'Courier New',monospace\"><span style=\"color: #7fbfbf; text-decoration-color: #7fbfbf\">[21:14:24] </span>Extracted <span style=\"color: #008080; text-decoration-color: #008080; font-weight: bold\">69</span> cases                                                                      <a href=\"file:///tmp/ipykernel_838161/552833638.py\" target=\"_blank\"><span style=\"color: #7f7f7f; text-decoration-color: #7f7f7f\">552833638.py</span></a><span style=\"color: #7f7f7f; text-decoration-color: #7f7f7f\">:</span><a href=\"file:///tmp/ipykernel_838161/552833638.py#102\" target=\"_blank\"><span style=\"color: #7f7f7f; text-decoration-color: #7f7f7f\">102</span></a>\n",
       "</pre>\n"
      ],
      "text/plain": [
       "\u001b[2;36m[21:14:24]\u001b[0m\u001b[2;36m \u001b[0mExtracted \u001b[1;36m69\u001b[0m cases                                                                      \u001b]8;id=698809;file:///tmp/ipykernel_838161/552833638.py\u001b\\\u001b[2m552833638.py\u001b[0m\u001b]8;;\u001b\\\u001b[2m:\u001b[0m\u001b]8;id=206658;file:///tmp/ipykernel_838161/552833638.py#102\u001b\\\u001b[2m102\u001b[0m\u001b]8;;\u001b\\\n"
      ]
     },
     "metadata": {},
     "output_type": "display_data"
    },
    {
     "data": {
      "application/vnd.jupyter.widget-view+json": {
       "model_id": "15b649262f9c4742934b145d4359f140",
       "version_major": 2,
       "version_minor": 0
      },
      "text/plain": [
       "Output()"
      ]
     },
     "metadata": {},
     "output_type": "display_data"
    },
    {
     "data": {
      "text/html": [
       "<pre style=\"white-space:pre;overflow-x:auto;line-height:normal;font-family:Menlo,'DejaVu Sans Mono',consolas,'Courier New',monospace\"></pre>\n"
      ],
      "text/plain": []
     },
     "metadata": {},
     "output_type": "display_data"
    },
    {
     "data": {
      "text/html": [
       "<pre style=\"white-space:pre;overflow-x:auto;line-height:normal;font-family:Menlo,'DejaVu Sans Mono',consolas,'Courier New',monospace\">\n",
       "</pre>\n"
      ],
      "text/plain": [
       "\n"
      ]
     },
     "metadata": {},
     "output_type": "display_data"
    },
    {
     "data": {
      "text/html": [
       "<pre style=\"white-space:pre;overflow-x:auto;line-height:normal;font-family:Menlo,'DejaVu Sans Mono',consolas,'Courier New',monospace\"><span style=\"color: #7fbfbf; text-decoration-color: #7fbfbf\">           </span>Extracted <span style=\"color: #008080; text-decoration-color: #008080; font-weight: bold\">30</span> cases                                                                      <a href=\"file:///tmp/ipykernel_838161/552833638.py\" target=\"_blank\"><span style=\"color: #7f7f7f; text-decoration-color: #7f7f7f\">552833638.py</span></a><span style=\"color: #7f7f7f; text-decoration-color: #7f7f7f\">:</span><a href=\"file:///tmp/ipykernel_838161/552833638.py#102\" target=\"_blank\"><span style=\"color: #7f7f7f; text-decoration-color: #7f7f7f\">102</span></a>\n",
       "</pre>\n"
      ],
      "text/plain": [
       "\u001b[2;36m          \u001b[0m\u001b[2;36m \u001b[0mExtracted \u001b[1;36m30\u001b[0m cases                                                                      \u001b]8;id=952880;file:///tmp/ipykernel_838161/552833638.py\u001b\\\u001b[2m552833638.py\u001b[0m\u001b]8;;\u001b\\\u001b[2m:\u001b[0m\u001b]8;id=820396;file:///tmp/ipykernel_838161/552833638.py#102\u001b\\\u001b[2m102\u001b[0m\u001b]8;;\u001b\\\n"
      ]
     },
     "metadata": {},
     "output_type": "display_data"
    },
    {
     "data": {
      "application/vnd.jupyter.widget-view+json": {
       "model_id": "977e5a4651e5474aba40af5a0e20070f",
       "version_major": 2,
       "version_minor": 0
      },
      "text/plain": [
       "Output()"
      ]
     },
     "metadata": {},
     "output_type": "display_data"
    },
    {
     "data": {
      "text/html": [
       "<pre style=\"white-space:pre;overflow-x:auto;line-height:normal;font-family:Menlo,'DejaVu Sans Mono',consolas,'Courier New',monospace\"></pre>\n"
      ],
      "text/plain": []
     },
     "metadata": {},
     "output_type": "display_data"
    },
    {
     "data": {
      "text/html": [
       "<pre style=\"white-space:pre;overflow-x:auto;line-height:normal;font-family:Menlo,'DejaVu Sans Mono',consolas,'Courier New',monospace\">\n",
       "</pre>\n"
      ],
      "text/plain": [
       "\n"
      ]
     },
     "metadata": {},
     "output_type": "display_data"
    },
    {
     "data": {
      "text/html": [
       "<pre style=\"white-space:pre;overflow-x:auto;line-height:normal;font-family:Menlo,'DejaVu Sans Mono',consolas,'Courier New',monospace\"><span style=\"color: #7fbfbf; text-decoration-color: #7fbfbf\">           </span>Extracted <span style=\"color: #008080; text-decoration-color: #008080; font-weight: bold\">100</span> cases                                                                     <a href=\"file:///tmp/ipykernel_838161/552833638.py\" target=\"_blank\"><span style=\"color: #7f7f7f; text-decoration-color: #7f7f7f\">552833638.py</span></a><span style=\"color: #7f7f7f; text-decoration-color: #7f7f7f\">:</span><a href=\"file:///tmp/ipykernel_838161/552833638.py#102\" target=\"_blank\"><span style=\"color: #7f7f7f; text-decoration-color: #7f7f7f\">102</span></a>\n",
       "</pre>\n"
      ],
      "text/plain": [
       "\u001b[2;36m          \u001b[0m\u001b[2;36m \u001b[0mExtracted \u001b[1;36m100\u001b[0m cases                                                                     \u001b]8;id=41079;file:///tmp/ipykernel_838161/552833638.py\u001b\\\u001b[2m552833638.py\u001b[0m\u001b]8;;\u001b\\\u001b[2m:\u001b[0m\u001b]8;id=328146;file:///tmp/ipykernel_838161/552833638.py#102\u001b\\\u001b[2m102\u001b[0m\u001b]8;;\u001b\\\n"
      ]
     },
     "metadata": {},
     "output_type": "display_data"
    },
    {
     "data": {
      "application/vnd.jupyter.widget-view+json": {
       "model_id": "75f280c9886a47c4b7d0dbf17beb3e6a",
       "version_major": 2,
       "version_minor": 0
      },
      "text/plain": [
       "Output()"
      ]
     },
     "metadata": {},
     "output_type": "display_data"
    },
    {
     "data": {
      "text/html": [
       "<pre style=\"white-space:pre;overflow-x:auto;line-height:normal;font-family:Menlo,'DejaVu Sans Mono',consolas,'Courier New',monospace\"></pre>\n"
      ],
      "text/plain": []
     },
     "metadata": {},
     "output_type": "display_data"
    },
    {
     "data": {
      "text/html": [
       "<pre style=\"white-space:pre;overflow-x:auto;line-height:normal;font-family:Menlo,'DejaVu Sans Mono',consolas,'Courier New',monospace\">\n",
       "</pre>\n"
      ],
      "text/plain": [
       "\n"
      ]
     },
     "metadata": {},
     "output_type": "display_data"
    },
    {
     "data": {
      "text/html": [
       "<pre style=\"white-space:pre;overflow-x:auto;line-height:normal;font-family:Menlo,'DejaVu Sans Mono',consolas,'Courier New',monospace\"><span style=\"color: #7fbfbf; text-decoration-color: #7fbfbf\">[21:14:25] </span>Extracted <span style=\"color: #008080; text-decoration-color: #008080; font-weight: bold\">0</span> cases                                                                       <a href=\"file:///tmp/ipykernel_838161/552833638.py\" target=\"_blank\"><span style=\"color: #7f7f7f; text-decoration-color: #7f7f7f\">552833638.py</span></a><span style=\"color: #7f7f7f; text-decoration-color: #7f7f7f\">:</span><a href=\"file:///tmp/ipykernel_838161/552833638.py#102\" target=\"_blank\"><span style=\"color: #7f7f7f; text-decoration-color: #7f7f7f\">102</span></a>\n",
       "</pre>\n"
      ],
      "text/plain": [
       "\u001b[2;36m[21:14:25]\u001b[0m\u001b[2;36m \u001b[0mExtracted \u001b[1;36m0\u001b[0m cases                                                                       \u001b]8;id=27342;file:///tmp/ipykernel_838161/552833638.py\u001b\\\u001b[2m552833638.py\u001b[0m\u001b]8;;\u001b\\\u001b[2m:\u001b[0m\u001b]8;id=260553;file:///tmp/ipykernel_838161/552833638.py#102\u001b\\\u001b[2m102\u001b[0m\u001b]8;;\u001b\\\n"
      ]
     },
     "metadata": {},
     "output_type": "display_data"
    },
    {
     "data": {
      "application/vnd.jupyter.widget-view+json": {
       "model_id": "d1ab549ffd824b06a116a3ae0b7cc6bb",
       "version_major": 2,
       "version_minor": 0
      },
      "text/plain": [
       "Output()"
      ]
     },
     "metadata": {},
     "output_type": "display_data"
    },
    {
     "data": {
      "text/html": [
       "<pre style=\"white-space:pre;overflow-x:auto;line-height:normal;font-family:Menlo,'DejaVu Sans Mono',consolas,'Courier New',monospace\"></pre>\n"
      ],
      "text/plain": []
     },
     "metadata": {},
     "output_type": "display_data"
    },
    {
     "data": {
      "text/html": [
       "<pre style=\"white-space:pre;overflow-x:auto;line-height:normal;font-family:Menlo,'DejaVu Sans Mono',consolas,'Courier New',monospace\">\n",
       "</pre>\n"
      ],
      "text/plain": [
       "\n"
      ]
     },
     "metadata": {},
     "output_type": "display_data"
    },
    {
     "data": {
      "text/html": [
       "<pre style=\"white-space:pre;overflow-x:auto;line-height:normal;font-family:Menlo,'DejaVu Sans Mono',consolas,'Courier New',monospace\"><span style=\"color: #7fbfbf; text-decoration-color: #7fbfbf\">           </span>Extracted <span style=\"color: #008080; text-decoration-color: #008080; font-weight: bold\">51</span> cases                                                                      <a href=\"file:///tmp/ipykernel_838161/552833638.py\" target=\"_blank\"><span style=\"color: #7f7f7f; text-decoration-color: #7f7f7f\">552833638.py</span></a><span style=\"color: #7f7f7f; text-decoration-color: #7f7f7f\">:</span><a href=\"file:///tmp/ipykernel_838161/552833638.py#102\" target=\"_blank\"><span style=\"color: #7f7f7f; text-decoration-color: #7f7f7f\">102</span></a>\n",
       "</pre>\n"
      ],
      "text/plain": [
       "\u001b[2;36m          \u001b[0m\u001b[2;36m \u001b[0mExtracted \u001b[1;36m51\u001b[0m cases                                                                      \u001b]8;id=382115;file:///tmp/ipykernel_838161/552833638.py\u001b\\\u001b[2m552833638.py\u001b[0m\u001b]8;;\u001b\\\u001b[2m:\u001b[0m\u001b]8;id=820586;file:///tmp/ipykernel_838161/552833638.py#102\u001b\\\u001b[2m102\u001b[0m\u001b]8;;\u001b\\\n"
      ]
     },
     "metadata": {},
     "output_type": "display_data"
    },
    {
     "data": {
      "application/vnd.jupyter.widget-view+json": {
       "model_id": "e3ffb8d7bc63429cb07276c97b1d3d01",
       "version_major": 2,
       "version_minor": 0
      },
      "text/plain": [
       "Output()"
      ]
     },
     "metadata": {},
     "output_type": "display_data"
    },
    {
     "data": {
      "text/html": [
       "<pre style=\"white-space:pre;overflow-x:auto;line-height:normal;font-family:Menlo,'DejaVu Sans Mono',consolas,'Courier New',monospace\"></pre>\n"
      ],
      "text/plain": []
     },
     "metadata": {},
     "output_type": "display_data"
    },
    {
     "data": {
      "text/html": [
       "<pre style=\"white-space:pre;overflow-x:auto;line-height:normal;font-family:Menlo,'DejaVu Sans Mono',consolas,'Courier New',monospace\">\n",
       "</pre>\n"
      ],
      "text/plain": [
       "\n"
      ]
     },
     "metadata": {},
     "output_type": "display_data"
    },
    {
     "data": {
      "text/html": [
       "<pre style=\"white-space:pre;overflow-x:auto;line-height:normal;font-family:Menlo,'DejaVu Sans Mono',consolas,'Courier New',monospace\"><span style=\"color: #7fbfbf; text-decoration-color: #7fbfbf\">           </span>Extracted <span style=\"color: #008080; text-decoration-color: #008080; font-weight: bold\">23</span> cases                                                                      <a href=\"file:///tmp/ipykernel_838161/552833638.py\" target=\"_blank\"><span style=\"color: #7f7f7f; text-decoration-color: #7f7f7f\">552833638.py</span></a><span style=\"color: #7f7f7f; text-decoration-color: #7f7f7f\">:</span><a href=\"file:///tmp/ipykernel_838161/552833638.py#102\" target=\"_blank\"><span style=\"color: #7f7f7f; text-decoration-color: #7f7f7f\">102</span></a>\n",
       "</pre>\n"
      ],
      "text/plain": [
       "\u001b[2;36m          \u001b[0m\u001b[2;36m \u001b[0mExtracted \u001b[1;36m23\u001b[0m cases                                                                      \u001b]8;id=362981;file:///tmp/ipykernel_838161/552833638.py\u001b\\\u001b[2m552833638.py\u001b[0m\u001b]8;;\u001b\\\u001b[2m:\u001b[0m\u001b]8;id=662420;file:///tmp/ipykernel_838161/552833638.py#102\u001b\\\u001b[2m102\u001b[0m\u001b]8;;\u001b\\\n"
      ]
     },
     "metadata": {},
     "output_type": "display_data"
    },
    {
     "data": {
      "application/vnd.jupyter.widget-view+json": {
       "model_id": "ccf5f1dbeaca4180a0599b19f39f02e9",
       "version_major": 2,
       "version_minor": 0
      },
      "text/plain": [
       "Output()"
      ]
     },
     "metadata": {},
     "output_type": "display_data"
    },
    {
     "data": {
      "text/html": [
       "<pre style=\"white-space:pre;overflow-x:auto;line-height:normal;font-family:Menlo,'DejaVu Sans Mono',consolas,'Courier New',monospace\"></pre>\n"
      ],
      "text/plain": []
     },
     "metadata": {},
     "output_type": "display_data"
    },
    {
     "data": {
      "text/html": [
       "<pre style=\"white-space:pre;overflow-x:auto;line-height:normal;font-family:Menlo,'DejaVu Sans Mono',consolas,'Courier New',monospace\">\n",
       "</pre>\n"
      ],
      "text/plain": [
       "\n"
      ]
     },
     "metadata": {},
     "output_type": "display_data"
    },
    {
     "data": {
      "text/html": [
       "<pre style=\"white-space:pre;overflow-x:auto;line-height:normal;font-family:Menlo,'DejaVu Sans Mono',consolas,'Courier New',monospace\"><span style=\"color: #7fbfbf; text-decoration-color: #7fbfbf\">[21:14:26] </span>Extracted <span style=\"color: #008080; text-decoration-color: #008080; font-weight: bold\">223</span> cases                                                                     <a href=\"file:///tmp/ipykernel_838161/552833638.py\" target=\"_blank\"><span style=\"color: #7f7f7f; text-decoration-color: #7f7f7f\">552833638.py</span></a><span style=\"color: #7f7f7f; text-decoration-color: #7f7f7f\">:</span><a href=\"file:///tmp/ipykernel_838161/552833638.py#102\" target=\"_blank\"><span style=\"color: #7f7f7f; text-decoration-color: #7f7f7f\">102</span></a>\n",
       "</pre>\n"
      ],
      "text/plain": [
       "\u001b[2;36m[21:14:26]\u001b[0m\u001b[2;36m \u001b[0mExtracted \u001b[1;36m223\u001b[0m cases                                                                     \u001b]8;id=776540;file:///tmp/ipykernel_838161/552833638.py\u001b\\\u001b[2m552833638.py\u001b[0m\u001b]8;;\u001b\\\u001b[2m:\u001b[0m\u001b]8;id=237613;file:///tmp/ipykernel_838161/552833638.py#102\u001b\\\u001b[2m102\u001b[0m\u001b]8;;\u001b\\\n"
      ]
     },
     "metadata": {},
     "output_type": "display_data"
    },
    {
     "data": {
      "application/vnd.jupyter.widget-view+json": {
       "model_id": "a707d2226b6f4aa8a14bf5007668ce34",
       "version_major": 2,
       "version_minor": 0
      },
      "text/plain": [
       "Output()"
      ]
     },
     "metadata": {},
     "output_type": "display_data"
    },
    {
     "data": {
      "text/html": [
       "<pre style=\"white-space:pre;overflow-x:auto;line-height:normal;font-family:Menlo,'DejaVu Sans Mono',consolas,'Courier New',monospace\"></pre>\n"
      ],
      "text/plain": []
     },
     "metadata": {},
     "output_type": "display_data"
    },
    {
     "data": {
      "text/html": [
       "<pre style=\"white-space:pre;overflow-x:auto;line-height:normal;font-family:Menlo,'DejaVu Sans Mono',consolas,'Courier New',monospace\">\n",
       "</pre>\n"
      ],
      "text/plain": [
       "\n"
      ]
     },
     "metadata": {},
     "output_type": "display_data"
    },
    {
     "data": {
      "text/html": [
       "<pre style=\"white-space:pre;overflow-x:auto;line-height:normal;font-family:Menlo,'DejaVu Sans Mono',consolas,'Courier New',monospace\"><span style=\"color: #7fbfbf; text-decoration-color: #7fbfbf\">[21:14:27] </span>Extracted <span style=\"color: #008080; text-decoration-color: #008080; font-weight: bold\">99</span> cases                                                                      <a href=\"file:///tmp/ipykernel_838161/552833638.py\" target=\"_blank\"><span style=\"color: #7f7f7f; text-decoration-color: #7f7f7f\">552833638.py</span></a><span style=\"color: #7f7f7f; text-decoration-color: #7f7f7f\">:</span><a href=\"file:///tmp/ipykernel_838161/552833638.py#102\" target=\"_blank\"><span style=\"color: #7f7f7f; text-decoration-color: #7f7f7f\">102</span></a>\n",
       "</pre>\n"
      ],
      "text/plain": [
       "\u001b[2;36m[21:14:27]\u001b[0m\u001b[2;36m \u001b[0mExtracted \u001b[1;36m99\u001b[0m cases                                                                      \u001b]8;id=832072;file:///tmp/ipykernel_838161/552833638.py\u001b\\\u001b[2m552833638.py\u001b[0m\u001b]8;;\u001b\\\u001b[2m:\u001b[0m\u001b]8;id=546738;file:///tmp/ipykernel_838161/552833638.py#102\u001b\\\u001b[2m102\u001b[0m\u001b]8;;\u001b\\\n"
      ]
     },
     "metadata": {},
     "output_type": "display_data"
    },
    {
     "data": {
      "application/vnd.jupyter.widget-view+json": {
       "model_id": "d991c52a674d43c68f663fbbce91e62d",
       "version_major": 2,
       "version_minor": 0
      },
      "text/plain": [
       "Output()"
      ]
     },
     "metadata": {},
     "output_type": "display_data"
    },
    {
     "data": {
      "text/html": [
       "<pre style=\"white-space:pre;overflow-x:auto;line-height:normal;font-family:Menlo,'DejaVu Sans Mono',consolas,'Courier New',monospace\"></pre>\n"
      ],
      "text/plain": []
     },
     "metadata": {},
     "output_type": "display_data"
    },
    {
     "data": {
      "text/html": [
       "<pre style=\"white-space:pre;overflow-x:auto;line-height:normal;font-family:Menlo,'DejaVu Sans Mono',consolas,'Courier New',monospace\">\n",
       "</pre>\n"
      ],
      "text/plain": [
       "\n"
      ]
     },
     "metadata": {},
     "output_type": "display_data"
    },
    {
     "data": {
      "text/html": [
       "<pre style=\"white-space:pre;overflow-x:auto;line-height:normal;font-family:Menlo,'DejaVu Sans Mono',consolas,'Courier New',monospace\"><span style=\"color: #7fbfbf; text-decoration-color: #7fbfbf\">           </span>Extracted <span style=\"color: #008080; text-decoration-color: #008080; font-weight: bold\">129</span> cases                                                                     <a href=\"file:///tmp/ipykernel_838161/552833638.py\" target=\"_blank\"><span style=\"color: #7f7f7f; text-decoration-color: #7f7f7f\">552833638.py</span></a><span style=\"color: #7f7f7f; text-decoration-color: #7f7f7f\">:</span><a href=\"file:///tmp/ipykernel_838161/552833638.py#102\" target=\"_blank\"><span style=\"color: #7f7f7f; text-decoration-color: #7f7f7f\">102</span></a>\n",
       "</pre>\n"
      ],
      "text/plain": [
       "\u001b[2;36m          \u001b[0m\u001b[2;36m \u001b[0mExtracted \u001b[1;36m129\u001b[0m cases                                                                     \u001b]8;id=502094;file:///tmp/ipykernel_838161/552833638.py\u001b\\\u001b[2m552833638.py\u001b[0m\u001b]8;;\u001b\\\u001b[2m:\u001b[0m\u001b]8;id=147970;file:///tmp/ipykernel_838161/552833638.py#102\u001b\\\u001b[2m102\u001b[0m\u001b]8;;\u001b\\\n"
      ]
     },
     "metadata": {},
     "output_type": "display_data"
    },
    {
     "data": {
      "application/vnd.jupyter.widget-view+json": {
       "model_id": "480fb461739e4fa5b9c9e075bc8d6863",
       "version_major": 2,
       "version_minor": 0
      },
      "text/plain": [
       "Output()"
      ]
     },
     "metadata": {},
     "output_type": "display_data"
    },
    {
     "data": {
      "text/html": [
       "<pre style=\"white-space:pre;overflow-x:auto;line-height:normal;font-family:Menlo,'DejaVu Sans Mono',consolas,'Courier New',monospace\"></pre>\n"
      ],
      "text/plain": []
     },
     "metadata": {},
     "output_type": "display_data"
    },
    {
     "data": {
      "text/html": [
       "<pre style=\"white-space:pre;overflow-x:auto;line-height:normal;font-family:Menlo,'DejaVu Sans Mono',consolas,'Courier New',monospace\">\n",
       "</pre>\n"
      ],
      "text/plain": [
       "\n"
      ]
     },
     "metadata": {},
     "output_type": "display_data"
    },
    {
     "data": {
      "text/html": [
       "<pre style=\"white-space:pre;overflow-x:auto;line-height:normal;font-family:Menlo,'DejaVu Sans Mono',consolas,'Courier New',monospace\"><span style=\"color: #7fbfbf; text-decoration-color: #7fbfbf\">[21:14:28] </span>Extracted <span style=\"color: #008080; text-decoration-color: #008080; font-weight: bold\">177</span> cases                                                                     <a href=\"file:///tmp/ipykernel_838161/552833638.py\" target=\"_blank\"><span style=\"color: #7f7f7f; text-decoration-color: #7f7f7f\">552833638.py</span></a><span style=\"color: #7f7f7f; text-decoration-color: #7f7f7f\">:</span><a href=\"file:///tmp/ipykernel_838161/552833638.py#102\" target=\"_blank\"><span style=\"color: #7f7f7f; text-decoration-color: #7f7f7f\">102</span></a>\n",
       "</pre>\n"
      ],
      "text/plain": [
       "\u001b[2;36m[21:14:28]\u001b[0m\u001b[2;36m \u001b[0mExtracted \u001b[1;36m177\u001b[0m cases                                                                     \u001b]8;id=785415;file:///tmp/ipykernel_838161/552833638.py\u001b\\\u001b[2m552833638.py\u001b[0m\u001b]8;;\u001b\\\u001b[2m:\u001b[0m\u001b]8;id=211387;file:///tmp/ipykernel_838161/552833638.py#102\u001b\\\u001b[2m102\u001b[0m\u001b]8;;\u001b\\\n"
      ]
     },
     "metadata": {},
     "output_type": "display_data"
    },
    {
     "data": {
      "application/vnd.jupyter.widget-view+json": {
       "model_id": "b46017ad08304fedb648996f96f6f431",
       "version_major": 2,
       "version_minor": 0
      },
      "text/plain": [
       "Output()"
      ]
     },
     "metadata": {},
     "output_type": "display_data"
    },
    {
     "data": {
      "text/html": [
       "<pre style=\"white-space:pre;overflow-x:auto;line-height:normal;font-family:Menlo,'DejaVu Sans Mono',consolas,'Courier New',monospace\"></pre>\n"
      ],
      "text/plain": []
     },
     "metadata": {},
     "output_type": "display_data"
    },
    {
     "data": {
      "text/html": [
       "<pre style=\"white-space:pre;overflow-x:auto;line-height:normal;font-family:Menlo,'DejaVu Sans Mono',consolas,'Courier New',monospace\">\n",
       "</pre>\n"
      ],
      "text/plain": [
       "\n"
      ]
     },
     "metadata": {},
     "output_type": "display_data"
    },
    {
     "data": {
      "text/html": [
       "<pre style=\"white-space:pre;overflow-x:auto;line-height:normal;font-family:Menlo,'DejaVu Sans Mono',consolas,'Courier New',monospace\"><span style=\"color: #7fbfbf; text-decoration-color: #7fbfbf\">           </span>Extracted <span style=\"color: #008080; text-decoration-color: #008080; font-weight: bold\">0</span> cases                                                                       <a href=\"file:///tmp/ipykernel_838161/552833638.py\" target=\"_blank\"><span style=\"color: #7f7f7f; text-decoration-color: #7f7f7f\">552833638.py</span></a><span style=\"color: #7f7f7f; text-decoration-color: #7f7f7f\">:</span><a href=\"file:///tmp/ipykernel_838161/552833638.py#102\" target=\"_blank\"><span style=\"color: #7f7f7f; text-decoration-color: #7f7f7f\">102</span></a>\n",
       "</pre>\n"
      ],
      "text/plain": [
       "\u001b[2;36m          \u001b[0m\u001b[2;36m \u001b[0mExtracted \u001b[1;36m0\u001b[0m cases                                                                       \u001b]8;id=938890;file:///tmp/ipykernel_838161/552833638.py\u001b\\\u001b[2m552833638.py\u001b[0m\u001b]8;;\u001b\\\u001b[2m:\u001b[0m\u001b]8;id=152015;file:///tmp/ipykernel_838161/552833638.py#102\u001b\\\u001b[2m102\u001b[0m\u001b]8;;\u001b\\\n"
      ]
     },
     "metadata": {},
     "output_type": "display_data"
    },
    {
     "data": {
      "application/vnd.jupyter.widget-view+json": {
       "model_id": "cd09930db2404c688051c0759d56b47c",
       "version_major": 2,
       "version_minor": 0
      },
      "text/plain": [
       "Output()"
      ]
     },
     "metadata": {},
     "output_type": "display_data"
    },
    {
     "data": {
      "text/html": [
       "<pre style=\"white-space:pre;overflow-x:auto;line-height:normal;font-family:Menlo,'DejaVu Sans Mono',consolas,'Courier New',monospace\"></pre>\n"
      ],
      "text/plain": []
     },
     "metadata": {},
     "output_type": "display_data"
    },
    {
     "data": {
      "text/html": [
       "<pre style=\"white-space:pre;overflow-x:auto;line-height:normal;font-family:Menlo,'DejaVu Sans Mono',consolas,'Courier New',monospace\">\n",
       "</pre>\n"
      ],
      "text/plain": [
       "\n"
      ]
     },
     "metadata": {},
     "output_type": "display_data"
    },
    {
     "data": {
      "text/html": [
       "<pre style=\"white-space:pre;overflow-x:auto;line-height:normal;font-family:Menlo,'DejaVu Sans Mono',consolas,'Courier New',monospace\"><span style=\"color: #7fbfbf; text-decoration-color: #7fbfbf\">           </span>Extracted <span style=\"color: #008080; text-decoration-color: #008080; font-weight: bold\">0</span> cases                                                                       <a href=\"file:///tmp/ipykernel_838161/552833638.py\" target=\"_blank\"><span style=\"color: #7f7f7f; text-decoration-color: #7f7f7f\">552833638.py</span></a><span style=\"color: #7f7f7f; text-decoration-color: #7f7f7f\">:</span><a href=\"file:///tmp/ipykernel_838161/552833638.py#102\" target=\"_blank\"><span style=\"color: #7f7f7f; text-decoration-color: #7f7f7f\">102</span></a>\n",
       "</pre>\n"
      ],
      "text/plain": [
       "\u001b[2;36m          \u001b[0m\u001b[2;36m \u001b[0mExtracted \u001b[1;36m0\u001b[0m cases                                                                       \u001b]8;id=785400;file:///tmp/ipykernel_838161/552833638.py\u001b\\\u001b[2m552833638.py\u001b[0m\u001b]8;;\u001b\\\u001b[2m:\u001b[0m\u001b]8;id=450049;file:///tmp/ipykernel_838161/552833638.py#102\u001b\\\u001b[2m102\u001b[0m\u001b]8;;\u001b\\\n"
      ]
     },
     "metadata": {},
     "output_type": "display_data"
    },
    {
     "data": {
      "application/vnd.jupyter.widget-view+json": {
       "model_id": "7b948b9edb8e4ee0baceb933e4bd0fb6",
       "version_major": 2,
       "version_minor": 0
      },
      "text/plain": [
       "Output()"
      ]
     },
     "metadata": {},
     "output_type": "display_data"
    },
    {
     "data": {
      "text/html": [
       "<pre style=\"white-space:pre;overflow-x:auto;line-height:normal;font-family:Menlo,'DejaVu Sans Mono',consolas,'Courier New',monospace\"></pre>\n"
      ],
      "text/plain": []
     },
     "metadata": {},
     "output_type": "display_data"
    },
    {
     "data": {
      "text/html": [
       "<pre style=\"white-space:pre;overflow-x:auto;line-height:normal;font-family:Menlo,'DejaVu Sans Mono',consolas,'Courier New',monospace\">\n",
       "</pre>\n"
      ],
      "text/plain": [
       "\n"
      ]
     },
     "metadata": {},
     "output_type": "display_data"
    },
    {
     "data": {
      "text/html": [
       "<pre style=\"white-space:pre;overflow-x:auto;line-height:normal;font-family:Menlo,'DejaVu Sans Mono',consolas,'Courier New',monospace\"><span style=\"color: #7fbfbf; text-decoration-color: #7fbfbf\">[21:14:29] </span>Extracted <span style=\"color: #008080; text-decoration-color: #008080; font-weight: bold\">109</span> cases                                                                     <a href=\"file:///tmp/ipykernel_838161/552833638.py\" target=\"_blank\"><span style=\"color: #7f7f7f; text-decoration-color: #7f7f7f\">552833638.py</span></a><span style=\"color: #7f7f7f; text-decoration-color: #7f7f7f\">:</span><a href=\"file:///tmp/ipykernel_838161/552833638.py#102\" target=\"_blank\"><span style=\"color: #7f7f7f; text-decoration-color: #7f7f7f\">102</span></a>\n",
       "</pre>\n"
      ],
      "text/plain": [
       "\u001b[2;36m[21:14:29]\u001b[0m\u001b[2;36m \u001b[0mExtracted \u001b[1;36m109\u001b[0m cases                                                                     \u001b]8;id=351646;file:///tmp/ipykernel_838161/552833638.py\u001b\\\u001b[2m552833638.py\u001b[0m\u001b]8;;\u001b\\\u001b[2m:\u001b[0m\u001b]8;id=505714;file:///tmp/ipykernel_838161/552833638.py#102\u001b\\\u001b[2m102\u001b[0m\u001b]8;;\u001b\\\n"
      ]
     },
     "metadata": {},
     "output_type": "display_data"
    },
    {
     "data": {
      "application/vnd.jupyter.widget-view+json": {
       "model_id": "54d095f12fba437db4197e125751d982",
       "version_major": 2,
       "version_minor": 0
      },
      "text/plain": [
       "Output()"
      ]
     },
     "metadata": {},
     "output_type": "display_data"
    },
    {
     "data": {
      "text/html": [
       "<pre style=\"white-space:pre;overflow-x:auto;line-height:normal;font-family:Menlo,'DejaVu Sans Mono',consolas,'Courier New',monospace\"></pre>\n"
      ],
      "text/plain": []
     },
     "metadata": {},
     "output_type": "display_data"
    },
    {
     "data": {
      "text/html": [
       "<pre style=\"white-space:pre;overflow-x:auto;line-height:normal;font-family:Menlo,'DejaVu Sans Mono',consolas,'Courier New',monospace\">\n",
       "</pre>\n"
      ],
      "text/plain": [
       "\n"
      ]
     },
     "metadata": {},
     "output_type": "display_data"
    },
    {
     "data": {
      "text/html": [
       "<pre style=\"white-space:pre;overflow-x:auto;line-height:normal;font-family:Menlo,'DejaVu Sans Mono',consolas,'Courier New',monospace\"><span style=\"color: #7fbfbf; text-decoration-color: #7fbfbf\">           </span>Extracted <span style=\"color: #008080; text-decoration-color: #008080; font-weight: bold\">73</span> cases                                                                      <a href=\"file:///tmp/ipykernel_838161/552833638.py\" target=\"_blank\"><span style=\"color: #7f7f7f; text-decoration-color: #7f7f7f\">552833638.py</span></a><span style=\"color: #7f7f7f; text-decoration-color: #7f7f7f\">:</span><a href=\"file:///tmp/ipykernel_838161/552833638.py#102\" target=\"_blank\"><span style=\"color: #7f7f7f; text-decoration-color: #7f7f7f\">102</span></a>\n",
       "</pre>\n"
      ],
      "text/plain": [
       "\u001b[2;36m          \u001b[0m\u001b[2;36m \u001b[0mExtracted \u001b[1;36m73\u001b[0m cases                                                                      \u001b]8;id=663534;file:///tmp/ipykernel_838161/552833638.py\u001b\\\u001b[2m552833638.py\u001b[0m\u001b]8;;\u001b\\\u001b[2m:\u001b[0m\u001b]8;id=283509;file:///tmp/ipykernel_838161/552833638.py#102\u001b\\\u001b[2m102\u001b[0m\u001b]8;;\u001b\\\n"
      ]
     },
     "metadata": {},
     "output_type": "display_data"
    },
    {
     "data": {
      "application/vnd.jupyter.widget-view+json": {
       "model_id": "4a1f9de283784144a692a0ac3232fbf5",
       "version_major": 2,
       "version_minor": 0
      },
      "text/plain": [
       "Output()"
      ]
     },
     "metadata": {},
     "output_type": "display_data"
    },
    {
     "data": {
      "text/html": [
       "<pre style=\"white-space:pre;overflow-x:auto;line-height:normal;font-family:Menlo,'DejaVu Sans Mono',consolas,'Courier New',monospace\"></pre>\n"
      ],
      "text/plain": []
     },
     "metadata": {},
     "output_type": "display_data"
    },
    {
     "data": {
      "text/html": [
       "<pre style=\"white-space:pre;overflow-x:auto;line-height:normal;font-family:Menlo,'DejaVu Sans Mono',consolas,'Courier New',monospace\">\n",
       "</pre>\n"
      ],
      "text/plain": [
       "\n"
      ]
     },
     "metadata": {},
     "output_type": "display_data"
    },
    {
     "data": {
      "text/html": [
       "<pre style=\"white-space:pre;overflow-x:auto;line-height:normal;font-family:Menlo,'DejaVu Sans Mono',consolas,'Courier New',monospace\"><span style=\"color: #7fbfbf; text-decoration-color: #7fbfbf\">           </span>Extracted <span style=\"color: #008080; text-decoration-color: #008080; font-weight: bold\">47</span> cases                                                                      <a href=\"file:///tmp/ipykernel_838161/552833638.py\" target=\"_blank\"><span style=\"color: #7f7f7f; text-decoration-color: #7f7f7f\">552833638.py</span></a><span style=\"color: #7f7f7f; text-decoration-color: #7f7f7f\">:</span><a href=\"file:///tmp/ipykernel_838161/552833638.py#102\" target=\"_blank\"><span style=\"color: #7f7f7f; text-decoration-color: #7f7f7f\">102</span></a>\n",
       "</pre>\n"
      ],
      "text/plain": [
       "\u001b[2;36m          \u001b[0m\u001b[2;36m \u001b[0mExtracted \u001b[1;36m47\u001b[0m cases                                                                      \u001b]8;id=60656;file:///tmp/ipykernel_838161/552833638.py\u001b\\\u001b[2m552833638.py\u001b[0m\u001b]8;;\u001b\\\u001b[2m:\u001b[0m\u001b]8;id=277730;file:///tmp/ipykernel_838161/552833638.py#102\u001b\\\u001b[2m102\u001b[0m\u001b]8;;\u001b\\\n"
      ]
     },
     "metadata": {},
     "output_type": "display_data"
    },
    {
     "data": {
      "application/vnd.jupyter.widget-view+json": {
       "model_id": "4607bbb8021541c9b7d756ed8a50a4bd",
       "version_major": 2,
       "version_minor": 0
      },
      "text/plain": [
       "Output()"
      ]
     },
     "metadata": {},
     "output_type": "display_data"
    },
    {
     "data": {
      "text/html": [
       "<pre style=\"white-space:pre;overflow-x:auto;line-height:normal;font-family:Menlo,'DejaVu Sans Mono',consolas,'Courier New',monospace\"></pre>\n"
      ],
      "text/plain": []
     },
     "metadata": {},
     "output_type": "display_data"
    },
    {
     "data": {
      "text/html": [
       "<pre style=\"white-space:pre;overflow-x:auto;line-height:normal;font-family:Menlo,'DejaVu Sans Mono',consolas,'Courier New',monospace\">\n",
       "</pre>\n"
      ],
      "text/plain": [
       "\n"
      ]
     },
     "metadata": {},
     "output_type": "display_data"
    },
    {
     "data": {
      "text/html": [
       "<pre style=\"white-space:pre;overflow-x:auto;line-height:normal;font-family:Menlo,'DejaVu Sans Mono',consolas,'Courier New',monospace\"><span style=\"color: #7fbfbf; text-decoration-color: #7fbfbf\">[21:14:30] </span>Extracted <span style=\"color: #008080; text-decoration-color: #008080; font-weight: bold\">0</span> cases                                                                       <a href=\"file:///tmp/ipykernel_838161/552833638.py\" target=\"_blank\"><span style=\"color: #7f7f7f; text-decoration-color: #7f7f7f\">552833638.py</span></a><span style=\"color: #7f7f7f; text-decoration-color: #7f7f7f\">:</span><a href=\"file:///tmp/ipykernel_838161/552833638.py#102\" target=\"_blank\"><span style=\"color: #7f7f7f; text-decoration-color: #7f7f7f\">102</span></a>\n",
       "</pre>\n"
      ],
      "text/plain": [
       "\u001b[2;36m[21:14:30]\u001b[0m\u001b[2;36m \u001b[0mExtracted \u001b[1;36m0\u001b[0m cases                                                                       \u001b]8;id=760306;file:///tmp/ipykernel_838161/552833638.py\u001b\\\u001b[2m552833638.py\u001b[0m\u001b]8;;\u001b\\\u001b[2m:\u001b[0m\u001b]8;id=611391;file:///tmp/ipykernel_838161/552833638.py#102\u001b\\\u001b[2m102\u001b[0m\u001b]8;;\u001b\\\n"
      ]
     },
     "metadata": {},
     "output_type": "display_data"
    },
    {
     "data": {
      "application/vnd.jupyter.widget-view+json": {
       "model_id": "41a1c11abe60408380fb7deb11011459",
       "version_major": 2,
       "version_minor": 0
      },
      "text/plain": [
       "Output()"
      ]
     },
     "metadata": {},
     "output_type": "display_data"
    },
    {
     "data": {
      "text/html": [
       "<pre style=\"white-space:pre;overflow-x:auto;line-height:normal;font-family:Menlo,'DejaVu Sans Mono',consolas,'Courier New',monospace\"></pre>\n"
      ],
      "text/plain": []
     },
     "metadata": {},
     "output_type": "display_data"
    },
    {
     "data": {
      "text/html": [
       "<pre style=\"white-space:pre;overflow-x:auto;line-height:normal;font-family:Menlo,'DejaVu Sans Mono',consolas,'Courier New',monospace\">\n",
       "</pre>\n"
      ],
      "text/plain": [
       "\n"
      ]
     },
     "metadata": {},
     "output_type": "display_data"
    }
   ],
   "source": [
    "txscraper = TXHarrisCountyScraper()\n",
    "txscraper.scrape({\"start_date\": \"03/06/2024\", \"end_date\": \"03/06/2024\"})"
   ]
  },
  {
   "cell_type": "code",
   "execution_count": null,
   "metadata": {},
   "outputs": [],
   "source": []
  }
 ],
 "metadata": {
  "kernelspec": {
   "display_name": "Python 3",
   "language": "python",
   "name": "python3"
  },
  "language_info": {
   "codemirror_mode": {
    "name": "ipython",
    "version": 3
   },
   "file_extension": ".py",
   "mimetype": "text/x-python",
   "name": "python",
   "nbconvert_exporter": "python",
   "pygments_lexer": "ipython3",
   "version": "3.10.13"
  }
 },
 "nbformat": 4,
 "nbformat_minor": 2
}
