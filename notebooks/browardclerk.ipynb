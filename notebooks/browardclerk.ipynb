{
 "cells": [
  {
   "cell_type": "code",
   "execution_count": 68,
   "metadata": {},
   "outputs": [],
   "source": [
    "import asyncio\n",
    "from playwright.async_api import async_playwright\n",
    "from datetime import datetime\n",
    "\n",
    "URL = 'https://www.browardclerk.org/Web2'\n",
    "CASE_NUMBER = '24001500TI10A'\n",
    "DATE_FORMAT = '%m/%d/%Y'"
   ]
  },
  {
   "cell_type": "code",
   "execution_count": 69,
   "metadata": {},
   "outputs": [],
   "source": [
    "def convert_charge(charge_str):\n",
    "    \"\"\"Convert the charge string into a list of dictionaries.\"\"\"\n",
    "    return [{'charge': charge_str}]\n",
    "\n",
    "def split_name(full_name):\n",
    "    \"\"\"Split the full name into a list of names.\"\"\"\n",
    "    names = full_name.split()\n",
    "    last_name = names[0].replace(',', '')\n",
    "    first_name = names[1]\n",
    "    middle_name = names[2] if len(names) > 2 else None\n",
    "    return first_name, middle_name, last_name\n",
    "\n",
    "def split_birth_date(birth_date_str):\n",
    "    \"\"\"Split the birth date into a list of date components.\"\"\"\n",
    "    date_components = birth_date_str.split('/')\n",
    "    birth_date = '/'.join(date_components[:2])\n",
    "    year_of_birth = date_components[2]\n",
    "    return {'birth_date': birth_date, 'year_of_birth': year_of_birth}"
   ]
  },
  {
   "cell_type": "code",
   "execution_count": 70,
   "metadata": {},
   "outputs": [],
   "source": [
    "async def run():\n",
    "    try:\n",
    "        async with async_playwright() as p:\n",
    "            browser = await p.chromium.launch(headless=False, slow_mo=50)\n",
    "            page = await browser.new_page()\n",
    "            await page.goto(URL, timeout=60000)\n",
    "            print(\"Webpage loaded.\")\n",
    "            await page.click('#myTabStandard > div > div > ul > li:nth-child(3) > a')\n",
    "            print(\"Clicked on button.\")\n",
    "            await page.click('#CaseNumber')\n",
    "            print(\"Clicked on textbox.\")\n",
    "            await page.fill('#CaseNumber', CASE_NUMBER)\n",
    "            print(\"Filled textbox.\")\n",
    "            print(\"Please complete the CAPTCHA verification.\")\n",
    "            await page.wait_for_timeout(30000)\n",
    "            print(\"Resuming Operation...\")\n",
    "            await page.click('#CaseNumberSearchResults')\n",
    "            print(\"Clicked on the search button.\")\n",
    "            await page.click('#SearchResultsGrid > div.k-grid-content > table > tbody > tr > td:nth-child(1) > div > a')\n",
    "            print(\"Clicked on the case number.\")\n",
    "            case_id = await page.inner_text('#liCN')\n",
    "            print(f\"case_id: {case_id}\")\n",
    "            court_id = await page.inner_text('#tblOtherDocs > tbody > tr > td:nth-child(2)')\n",
    "            print(f\"court_id: {court_id}\")\n",
    "            address = await page.inner_text('#PartyDetailsRow > tr:nth-child(1) > td:nth-child(3)')\n",
    "            print(f\"address: {address}\")\n",
    "            charge_str = await page.inner_text('#tblCharges > tbody > tr > td:nth-child(2)')\n",
    "            print(f\"charge: {convert_charge(charge_str)}\")\n",
    "            filing_date_str = await page.inner_text('#liCRFilingDate')\n",
    "            filing_date = datetime.strptime(filing_date_str, DATE_FORMAT)\n",
    "            print(f\"filing date: {filing_date}\")\n",
    "            offence_date_str = await page.inner_text('#tblCharges > tbody > tr > td:nth-child(1)')\n",
    "            offence_date = datetime.strptime(offence_date_str, DATE_FORMAT)\n",
    "            print(f\"offence date: {offence_date}\")\n",
    "            full_name = await page.inner_text('#PartyDetailsRow > tr:nth-child(1) > td:nth-child(2) > b:nth-child(1)')\n",
    "            first_name, middle_name, last_name = split_name(full_name)\n",
    "            print(f\"first_name: {first_name}\")\n",
    "            print(f\"middle_name: {middle_name}\")\n",
    "            print(f\"last_name: {last_name}\")\n",
    "            gender = await page.evaluate('''() => {\n",
    "                let xpath = '//*[@id=\"PartyDetailsRow\"]/tr[1]/td[2]/text()[1]';\n",
    "                let iterator = document.evaluate(xpath, document, null, XPathResult.ORDERED_NODE_ITERATOR_TYPE, null );\n",
    "                let textNode = iterator.iterateNext();\n",
    "                return textNode ? textNode.textContent : '';\n",
    "            }''')\n",
    "            print(f\"gender: {gender}\")\n",
    "            birth_date_str = await page.evaluate('''() => {\n",
    "                let xpath = '//*[@id=\"PartyDetailsRow\"]/tr[1]/td[2]/text()[4]';\n",
    "                let iterator = document.evaluate(xpath, document, null, XPathResult.ORDERED_NODE_ITERATOR_TYPE, null );\n",
    "                let textNode = iterator.iterateNext();\n",
    "                return textNode ? textNode.textContent : '';\n",
    "            }''')\n",
    "            print(f\"birth_date: {split_birth_date(birth_date_str)['birth_date']}\")\n",
    "            print(f\"year_of_birth: {split_birth_date(birth_date_str)['year_of_birth']}\")\n",
    "            await browser.close()\n",
    "            print(\"Browser closed.\")\n",
    "    except Exception as e:\n",
    "        print(f\"An error of type {type(e).__name__} occurred.\")\n",
    "        print(f\"Arguments: {e.args}\")"
   ]
  },
  {
   "cell_type": "code",
   "execution_count": 71,
   "metadata": {},
   "outputs": [
    {
     "name": "stdout",
     "output_type": "stream",
     "text": [
      "An error of type NotImplementedError occurred.\n",
      "Arguments: ()\n"
     ]
    }
   ],
   "source": [
    "await run()"
   ]
  }
 ],
 "metadata": {
  "kernelspec": {
   "display_name": "Python 3",
   "language": "python",
   "name": "python3"
  },
  "language_info": {
   "codemirror_mode": {
    "name": "ipython",
    "version": 3
   },
   "file_extension": ".py",
   "mimetype": "text/x-python",
   "name": "python",
   "nbconvert_exporter": "python",
   "pygments_lexer": "ipython3",
   "version": "3.12.3"
  }
 },
 "nbformat": 4,
 "nbformat_minor": 2
}
