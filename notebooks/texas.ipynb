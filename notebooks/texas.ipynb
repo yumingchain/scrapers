{
 "cells": [
  {
   "cell_type": "code",
   "execution_count": 7,
   "metadata": {},
   "outputs": [],
   "source": [
    "import sys\n",
    "sys.path.append(\"..\")\n",
    "\n",
    "from playwright.async_api import async_playwright, TimeoutError\n",
    "import requests\n",
    "from urllib.parse import urlparse, parse_qs\n",
    "\n",
    "import pandas as pd\n",
    "from models.cases import Case\n",
    "from models.scraper import ScraperBase\n",
    "from datetime import date, datetime, time\n",
    "from tempfile import NamedTemporaryFile\n",
    "from rich.console import Console\n",
    "from models.leads import Lead\n",
    "from models.scraper import ScraperBase\n",
    "from rich.progress import Progress\n",
    "\n",
    "import re\n",
    "import os\n",
    "from dotenv import load_dotenv\n",
    "from twocaptcha import TwoCaptcha\n",
    "load_dotenv(dotenv_path='.env')\n",
    "TWOCAPTCHA_API_KEY = os.getenv('TWOCAPTCHA_API_KEY')\n",
    "\n",
    "console = Console()\n",
    "\n",
    "class TexasScraper(ScraperBase):  \n",
    "    async def init_browser(self):\n",
    "        console.log(\"Initation of Browser...\")\n",
    "        pw = await async_playwright().start()\n",
    "        self.browser = await pw.chromium.launch(headless=False)\n",
    "        context = await self.browser.new_context()\n",
    "        self.page = await context.new_page()\n",
    "        self.url = \"https://online.idocket.com/Account/SignInRuby\"\n",
    "        await self.page.goto(self.url)\n",
    "\n",
    "        name_element = await self.page.query_selector('#name')\n",
    "        await name_element.fill(\"ttd\")\n",
    "        password_element = await self.page.query_selector('#password')\n",
    "        await password_element.fill(\"WHH612\")\n",
    "\n",
    "        await self.page.wait_for_timeout(2000)\n",
    "\n",
    "        accept_button = await self.page.query_selector('button.big-btn.btn-sm')\n",
    "        if accept_button:\n",
    "            await accept_button.click()\n",
    "        else:\n",
    "            print(\"The 'Accept' button was not found.\")\n",
    "\n",
    "        await self.page.wait_for_load_state(\"networkidle\")\n",
    "        await self.page.wait_for_timeout(2000)\n"
   ]
  },
  {
   "cell_type": "code",
   "execution_count": 8,
   "metadata": {},
   "outputs": [
    {
     "data": {
      "text/html": [
       "<pre style=\"white-space:pre;overflow-x:auto;line-height:normal;font-family:Menlo,'DejaVu Sans Mono',consolas,'Courier New',monospace\"><span style=\"color: #7fbfbf; text-decoration-color: #7fbfbf\">[15:59:35] </span>Initation of Browser<span style=\"color: #808000; text-decoration-color: #808000\">...</span>                                                                  <a href=\"file:///tmp/ipykernel_78250/751932901.py\" target=\"_blank\"><span style=\"color: #7f7f7f; text-decoration-color: #7f7f7f\">751932901.py</span></a><span style=\"color: #7f7f7f; text-decoration-color: #7f7f7f\">:</span><a href=\"file:///tmp/ipykernel_78250/751932901.py#29\" target=\"_blank\"><span style=\"color: #7f7f7f; text-decoration-color: #7f7f7f\">29</span></a>\n",
       "</pre>\n"
      ],
      "text/plain": [
       "\u001b[2;36m[15:59:35]\u001b[0m\u001b[2;36m \u001b[0mInitation of Browser\u001b[33m...\u001b[0m                                                                  \u001b]8;id=573001;file:///tmp/ipykernel_78250/751932901.py\u001b\\\u001b[2m751932901.py\u001b[0m\u001b]8;;\u001b\\\u001b[2m:\u001b[0m\u001b]8;id=750242;file:///tmp/ipykernel_78250/751932901.py#29\u001b\\\u001b[2m29\u001b[0m\u001b]8;;\u001b\\\n"
      ]
     },
     "metadata": {},
     "output_type": "display_data"
    }
   ],
   "source": [
    "txscraper = TexasScraper()\n",
    "await txscraper.init_browser()"
   ]
  },
  {
   "cell_type": "code",
   "execution_count": null,
   "metadata": {},
   "outputs": [],
   "source": []
  }
 ],
 "metadata": {
  "kernelspec": {
   "display_name": "venv",
   "language": "python",
   "name": "python3"
  },
  "language_info": {
   "codemirror_mode": {
    "name": "ipython",
    "version": 3
   },
   "file_extension": ".py",
   "mimetype": "text/x-python",
   "name": "python",
   "nbconvert_exporter": "python",
   "pygments_lexer": "ipython3",
   "version": "3.11.2"
  }
 },
 "nbformat": 4,
 "nbformat_minor": 2
}
