{
 "cells": [
  {
   "cell_type": "code",
   "execution_count": 3,
   "metadata": {},
   "outputs": [],
   "source": [
    "import os\n",
    "import requests\n",
    "import pandas as pd\n",
    "\n",
    "import sys\n",
    "sys.path.append('..')\n",
    "from models.cases import Case"
   ]
  },
  {
   "cell_type": "code",
   "execution_count": null,
   "metadata": {},
   "outputs": [],
   "source": [
    "\n",
    "API_ENDPOINT = \"https://wcca.wicourts.gov/jsonPost/advancedCaseSearch\"\n",
    "START_DATE = \"03-29-2024\" ## MM-DD_YYYY FORMAT\n",
    "END_DATE = \"03-29-2024\" ## MM-DD_YYYY FORMAT\n",
    "\n",
    "headers = {\n",
    "    'Content-Type': 'application/json'\n",
    "}\n",
    "\n",
    "payload = {\n",
    "    \"includeMissingDob\":True,\n",
    "    \"includeMissingMiddleName\":True,\n",
    "    \"attyType\":\"partyAtty\",\n",
    "    \"filingDate\":{\"start\":START_DATE,\"end\":END_DATE}\n",
    "}\n",
    "\n",
    "response = requests.post(\n",
    "    url=API_ENDPOINT,\n",
    "    json=payload,\n",
    "    headers=headers\n",
    ")\n",
    "\n",
    "print(response.status_code)"
   ]
  },
  {
   "cell_type": "code",
   "execution_count": 2,
   "metadata": {},
   "outputs": [],
   "source": [
    "cases = response.json().get(\"result\").get(\"cases\")"
   ]
  },
  {
   "cell_type": "code",
   "execution_count": 11,
   "metadata": {},
   "outputs": [
    {
     "data": {
      "text/plain": [
       "[{'partyName': 'Schenck, Jerome E',\n",
       "  'countyName': 'Dane',\n",
       "  'dob': None,\n",
       "  'caseNo': '2024WL000299',\n",
       "  'countyNo': 13,\n",
       "  'caption': 'In the Matter of Jerome E Schenck',\n",
       "  'status': 'Filed Only',\n",
       "  'filingDate': '2024-03-29'},\n",
       " {'partyName': 'Colbert, James Joseph',\n",
       "  'countyName': 'Dane',\n",
       "  'dob': None,\n",
       "  'caseNo': '2024WL000298',\n",
       "  'countyNo': 13,\n",
       "  'caption': 'In the Matter of James Joseph Colbert',\n",
       "  'status': 'Filed Only',\n",
       "  'filingDate': '2024-03-29'},\n",
       " {'partyName': 'Colbert, James Joseph',\n",
       "  'countyName': 'Dane',\n",
       "  'dob': None,\n",
       "  'caseNo': '2024WL000297',\n",
       "  'countyNo': 13,\n",
       "  'caption': 'In the Matter of James Joseph Colbert',\n",
       "  'status': 'Filed Only',\n",
       "  'filingDate': '2024-03-29'},\n",
       " {'partyName': 'Kollross, Nicole L',\n",
       "  'countyName': 'Dane',\n",
       "  'dob': None,\n",
       "  'caseNo': '2024WL000296',\n",
       "  'countyNo': 13,\n",
       "  'caption': 'In the Matter of Nicole L Kollross',\n",
       "  'status': 'Filed Only',\n",
       "  'filingDate': '2024-03-29'},\n",
       " {'partyName': 'Meyers, Lorelie K',\n",
       "  'countyName': 'Dane',\n",
       "  'dob': None,\n",
       "  'caseNo': '2024WL000295',\n",
       "  'countyNo': 13,\n",
       "  'caption': 'In the Matter of Lorelie K Meyers',\n",
       "  'status': 'Filed Only',\n",
       "  'filingDate': '2024-03-29'}]"
      ]
     },
     "execution_count": 11,
     "metadata": {},
     "output_type": "execute_result"
    }
   ],
   "source": [
    "cases[:5]"
   ]
  },
  {
   "cell_type": "code",
   "execution_count": 4,
   "metadata": {},
   "outputs": [],
   "source": [
    "df = pd.DataFrame(cases)\n",
    "\n",
    "# Define the path to your CSV file\n",
    "csv_file_temp_path = 'Temp/wisconsin.csv'\n",
    "\n",
    "# Split the path in directory and file name\n",
    "directory = os.path.dirname(csv_file_temp_path)\n",
    "\n",
    "# Check if the directory exists, create it if it doesn't\n",
    "if not os.path.exists(directory):\n",
    "    os.makedirs(directory)\n",
    "\n",
    "df.to_csv(csv_file_temp_path, index=False)"
   ]
  },
  {
   "cell_type": "code",
   "execution_count": 10,
   "metadata": {},
   "outputs": [
    {
     "data": {
      "text/html": [
       "<div>\n",
       "<style scoped>\n",
       "    .dataframe tbody tr th:only-of-type {\n",
       "        vertical-align: middle;\n",
       "    }\n",
       "\n",
       "    .dataframe tbody tr th {\n",
       "        vertical-align: top;\n",
       "    }\n",
       "\n",
       "    .dataframe thead th {\n",
       "        text-align: right;\n",
       "    }\n",
       "</style>\n",
       "<table border=\"1\" class=\"dataframe\">\n",
       "  <thead>\n",
       "    <tr style=\"text-align: right;\">\n",
       "      <th></th>\n",
       "      <th>partyName</th>\n",
       "      <th>countyName</th>\n",
       "      <th>dob</th>\n",
       "      <th>caseNo</th>\n",
       "      <th>countyNo</th>\n",
       "      <th>caption</th>\n",
       "      <th>status</th>\n",
       "      <th>filingDate</th>\n",
       "    </tr>\n",
       "  </thead>\n",
       "  <tbody>\n",
       "    <tr>\n",
       "      <th>0</th>\n",
       "      <td>Schenck, Jerome E</td>\n",
       "      <td>Dane</td>\n",
       "      <td>None</td>\n",
       "      <td>2024WL000299</td>\n",
       "      <td>13</td>\n",
       "      <td>In the Matter of Jerome E Schenck</td>\n",
       "      <td>Filed Only</td>\n",
       "      <td>2024-03-29</td>\n",
       "    </tr>\n",
       "    <tr>\n",
       "      <th>1</th>\n",
       "      <td>Colbert, James Joseph</td>\n",
       "      <td>Dane</td>\n",
       "      <td>None</td>\n",
       "      <td>2024WL000298</td>\n",
       "      <td>13</td>\n",
       "      <td>In the Matter of James Joseph Colbert</td>\n",
       "      <td>Filed Only</td>\n",
       "      <td>2024-03-29</td>\n",
       "    </tr>\n",
       "    <tr>\n",
       "      <th>2</th>\n",
       "      <td>Colbert, James Joseph</td>\n",
       "      <td>Dane</td>\n",
       "      <td>None</td>\n",
       "      <td>2024WL000297</td>\n",
       "      <td>13</td>\n",
       "      <td>In the Matter of James Joseph Colbert</td>\n",
       "      <td>Filed Only</td>\n",
       "      <td>2024-03-29</td>\n",
       "    </tr>\n",
       "    <tr>\n",
       "      <th>3</th>\n",
       "      <td>Kollross, Nicole L</td>\n",
       "      <td>Dane</td>\n",
       "      <td>None</td>\n",
       "      <td>2024WL000296</td>\n",
       "      <td>13</td>\n",
       "      <td>In the Matter of Nicole L Kollross</td>\n",
       "      <td>Filed Only</td>\n",
       "      <td>2024-03-29</td>\n",
       "    </tr>\n",
       "    <tr>\n",
       "      <th>4</th>\n",
       "      <td>Meyers, Lorelie K</td>\n",
       "      <td>Dane</td>\n",
       "      <td>None</td>\n",
       "      <td>2024WL000295</td>\n",
       "      <td>13</td>\n",
       "      <td>In the Matter of Lorelie K Meyers</td>\n",
       "      <td>Filed Only</td>\n",
       "      <td>2024-03-29</td>\n",
       "    </tr>\n",
       "  </tbody>\n",
       "</table>\n",
       "</div>"
      ],
      "text/plain": [
       "               partyName countyName   dob        caseNo  countyNo  \\\n",
       "0      Schenck, Jerome E       Dane  None  2024WL000299        13   \n",
       "1  Colbert, James Joseph       Dane  None  2024WL000298        13   \n",
       "2  Colbert, James Joseph       Dane  None  2024WL000297        13   \n",
       "3     Kollross, Nicole L       Dane  None  2024WL000296        13   \n",
       "4      Meyers, Lorelie K       Dane  None  2024WL000295        13   \n",
       "\n",
       "                                 caption      status  filingDate  \n",
       "0      In the Matter of Jerome E Schenck  Filed Only  2024-03-29  \n",
       "1  In the Matter of James Joseph Colbert  Filed Only  2024-03-29  \n",
       "2  In the Matter of James Joseph Colbert  Filed Only  2024-03-29  \n",
       "3     In the Matter of Nicole L Kollross  Filed Only  2024-03-29  \n",
       "4      In the Matter of Lorelie K Meyers  Filed Only  2024-03-29  "
      ]
     },
     "execution_count": 10,
     "metadata": {},
     "output_type": "execute_result"
    }
   ],
   "source": [
    "df.head(5)"
   ]
  },
  {
   "cell_type": "markdown",
   "metadata": {},
   "source": [
    "Get Cookie to solve hcaptcha\n",
    "To Do:\n",
    "Solve the hcaptcha manually"
   ]
  },
  {
   "cell_type": "code",
   "execution_count": 5,
   "metadata": {},
   "outputs": [
    {
     "data": {
      "text/plain": [
       "<Response url='https://wcca.wicourts.gov/caseDetail.html?caseNo=2024TR004754&countyNo=13&index=0&isAdvanced=true&mode=details' request=<Request url='https://wcca.wicourts.gov/caseDetail.html?caseNo=2024TR004754&countyNo=13&index=0&isAdvanced=true&mode=details' method='GET'>>"
      ]
     },
     "execution_count": 5,
     "metadata": {},
     "output_type": "execute_result"
    }
   ],
   "source": [
    "from playwright.async_api import async_playwright\n",
    "\n",
    "pw = await async_playwright().start()\n",
    "browser = await pw.chromium.launch(headless=False)\n",
    "context = await browser.new_context()\n",
    "page = await context.new_page()\n",
    "\n",
    "await page.goto(url=\"https://wcca.wicourts.gov/caseDetail.html?caseNo=2024TR004754&countyNo=13&index=0&isAdvanced=true&mode=details\")\n"
   ]
  },
  {
   "cell_type": "markdown",
   "metadata": {},
   "source": [
    "Get the Cookie After solving the manual captcha"
   ]
  },
  {
   "cell_type": "code",
   "execution_count": 6,
   "metadata": {},
   "outputs": [],
   "source": [
    "async def get_cookies():\n",
    "    await page.reload(wait_until=\"networkidle\")\n",
    "    await page.wait_for_selector('div.caseDetailContainer', state='attached', timeout=999999999)\n",
    "    cookies = await page.context.cookies()\n",
    "    cookies = '; '.join([f\"{cookie.get('name')}={cookie.get('value')}\" for cookie in cookies])\n",
    "    return cookies"
   ]
  },
  {
   "cell_type": "code",
   "execution_count": 7,
   "metadata": {},
   "outputs": [],
   "source": [
    "def get_case_details(caseNo, countyNo, cookies):\n",
    "    headers = {\n",
    "        'Content-Type': 'application/json',\n",
    "        'Cookie': cookies\n",
    "    }\n",
    "\n",
    "    res = requests.post(\n",
    "        url=f\"https://wcca.wicourts.gov/caseDetail/{countyNo}/{caseNo}\",\n",
    "        headers=headers,\n",
    "        json={}\n",
    "    )\n",
    "\n",
    "    if res.status_code == 200:\n",
    "        return res.json()\n",
    "    else:\n",
    "        return None"
   ]
  },
  {
   "cell_type": "code",
   "execution_count": 12,
   "metadata": {},
   "outputs": [
    {
     "name": "stdout",
     "output_type": "stream",
     "text": [
      "dict_keys(['case_id', 'court_id', 'flag', 'urgent', 'participants', 'related_cases', 'protection_order', 'parties', 'disposed', 'legal_fileaccepted', 'paper_accepted', 'confidential', 'display_judgenotes', 'case_notecount', 'display_legalfileviewer', 'display_fileviewer', 'can_userseepublicdocuments', 'can_userseecasedocuments', 'can_userseeenoticehistory', 'can_selectdocket', 'can_seeecflinks', 'can_seelegalfilelinks', 'is_ticket', 'address_a_type', 'address_city', 'address_line_1', 'address_seq_no', 'address_state_code', 'address_zip', 'birth_date', 'birth_date_code', 'criminal_case', 'criminal_ind', 'description', 'description_code', 'first_name', 'year_of_birth', 'formatted_party_address', 'formatted_party_name', 'formatted_telephone', 'last_name', 'lit_ind', 'middle_name', 'party_type', 'pidm', 'pred_code', 'prosecuting_atty', 'pty_seq_no', 'sort_seq', 'age', 'case_desc', 'court_desc', 'location', 'filing_date', 'case_date', 'formatted_filingdate', 'case_type', 'case_security', 'case_typecode', 'vine_code', 'locn_code', 'court_code', 'vine_display', 'vine_id', 'dockets', 'documents', 'charges', 'judge', 'court_type', 'ticket_searchresult', 'fine', 'plea_andpayind', 'ticket', 'ticket_img', 'status', 'case_status', 'events', 'court_date', 'court_time', 'court_link', 'arrest_date', 'arrest_time', 'where_held', 'gender', 'release_info', 'source', 'custom', 'raw'])\n"
     ]
    }
   ],
   "source": [
    "print(Case.__fields__.keys())"
   ]
  },
  {
   "cell_type": "code",
   "execution_count": 9,
   "metadata": {},
   "outputs": [
    {
     "name": "stdout",
     "output_type": "stream",
     "text": [
      "0\n",
      "8\n",
      "107\n",
      "206\n",
      "305\n",
      "404\n",
      "503\n",
      "602\n",
      "701\n",
      "800\n",
      "899\n"
     ]
    }
   ],
   "source": [
    "from tqdm import tqdm\n",
    "\n",
    "cookies = \"\"\n",
    "\n",
    "details = []\n",
    "\n",
    "for i, case in tqdm(enumerate(cases)):\n",
    "    caseNo = case.get(\"caseNo\")\n",
    "    countyNo = case.get(\"countyNo\")\n",
    "\n",
    "    case_details = get_case_details(caseNo, countyNo, cookies)\n",
    "    if case_details and case_details.get(\"errors\"):\n",
    "        print(i)\n",
    "        cookies = await get_cookies()\n",
    "        case_details = get_case_details(caseNo, countyNo, cookies)\n",
    "    \n",
    "    try:\n",
    "        details.append({\n",
    "            \n",
    "        })\n",
    "    except Exception as e:\n",
    "        print(e)\n",
    "        details.append({})\n",
    "    \n",
    "    # print(case_details)\n"
   ]
  },
  {
   "cell_type": "code",
   "execution_count": null,
   "metadata": {},
   "outputs": [],
   "source": []
  }
 ],
 "metadata": {
  "kernelspec": {
   "display_name": "Python 3",
   "language": "python",
   "name": "python3"
  },
  "language_info": {
   "codemirror_mode": {
    "name": "ipython",
    "version": 3
   },
   "file_extension": ".py",
   "mimetype": "text/x-python",
   "name": "python",
   "nbconvert_exporter": "python",
   "pygments_lexer": "ipython3",
   "version": "3.10.13"
  }
 },
 "nbformat": 4,
 "nbformat_minor": 2
}
